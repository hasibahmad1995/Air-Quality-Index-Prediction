{
 "cells": [
  {
   "cell_type": "markdown",
   "id": "6adcdef6",
   "metadata": {},
   "source": [
    "### IEEM TCN"
   ]
  },
  {
   "cell_type": "code",
   "execution_count": 25,
   "id": "7e3769ff",
   "metadata": {},
   "outputs": [
    {
     "name": "stdout",
     "output_type": "stream",
     "text": [
      "Using tcn to train.\n",
      "Namespace(batch_size=128, clip=0.15, cuda=True, data='pollution', dropout=0.3, epochs=10, horizon=1, ksize=3, levels=8, log_interval=100, loss='IEEM', lr=0.004, model='tcn', nhid=40, optim='Adam', seed=1111, seq_len=48)\n",
      "97.82907243526712 89.26339116744458\n",
      "Train: (26294, 11), Valid: (8765, 11)\n",
      "19859\n",
      "7316\n",
      "7197\n",
      "torch.Size([19859, 11, 48]) torch.Size([19859, 1, 48])\n",
      "torch.Size([7316, 11, 48]) torch.Size([7316, 1, 48])\n",
      "torch.Size([7197, 11, 48]) torch.Size([7197, 1, 48])\n",
      "----------------------------\n",
      "7316\n",
      "IEEM\n",
      "train.py:49: UserWarning: torch.nn.utils.clip_grad_norm is now deprecated in favor of torch.nn.utils.clip_grad_norm_.\n",
      "  torch.nn.utils.clip_grad_norm(model.parameters(), args.clip)  # 梯度裁剪\n",
      "Epoch: 1 Train set: MSE = 2751.1356298750766, Accuracy = 0.5243466438390654 with predicted horizon: 1\n",
      "Epoch: 1 Val set: MSE = 1268.2468126221747, Accuracy = 0.5362219792236195 with predicted horizon: 1\n",
      "Epoch: 2 Train set: MSE = 863.2419739565478, Accuracy = 0.7205800896319049 with predicted horizon: 1\n",
      "Epoch: 2 Val set: MSE = 916.1689086444046, Accuracy = 0.5776380535811919 with predicted horizon: 1\n",
      "Epoch: 3 Train set: MSE = 792.8786136304726, Accuracy = 0.7114658341306209 with predicted horizon: 1\n",
      "Epoch: 3 Val set: MSE = 883.0264137401045, Accuracy = 0.5608255877528704 with predicted horizon: 1\n",
      "Epoch: 4 Train set: MSE = 658.1983262045668, Accuracy = 0.7467143360692885 with predicted horizon: 1\n",
      "Epoch: 4 Val set: MSE = 1061.2532333041092, Accuracy = 0.48031711317659925 with predicted horizon: 1\n",
      "Epoch: 5 Train set: MSE = 661.8240348396833, Accuracy = 0.7259177199254746 with predicted horizon: 1\n",
      "Epoch: 5 Val set: MSE = 1018.7258860067103, Accuracy = 0.49986331328594863 with predicted horizon: 1\n",
      "Epoch: 6 Train set: MSE = 659.4196844833356, Accuracy = 0.7224432247343774 with predicted horizon: 1\n",
      "Epoch: 6 Val set: MSE = 612.9089976723466, Accuracy = 0.6950519409513395 with predicted horizon: 1\n",
      "Epoch: 7 Train set: MSE = 709.4757822426446, Accuracy = 0.6919280930560451 with predicted horizon: 1\n",
      "Epoch: 7 Val set: MSE = 535.6197679229743, Accuracy = 0.7572443958447239 with predicted horizon: 1\n",
      "Epoch: 8 Train set: MSE = 695.0748918409713, Accuracy = 0.7105090890779999 with predicted horizon: 1\n",
      "Epoch: 8 Val set: MSE = 639.9790565507251, Accuracy = 0.7130945872061236 with predicted horizon: 1\n",
      "Epoch: 9 Train set: MSE = 631.8192802131532, Accuracy = 0.7424845158366483 with predicted horizon: 1\n",
      "Epoch: 9 Val set: MSE = 577.4942988373751, Accuracy = 0.7169218151995626 with predicted horizon: 1\n",
      "Epoch: 10 Train set: MSE = 605.4528287289183, Accuracy = 0.747922856135757 with predicted horizon: 1\n",
      "Epoch: 10 Val set: MSE = 562.2597659851903, Accuracy = 0.7255330781848004 with predicted horizon: 1\n",
      "Best val epoch: 7\n"
     ]
    }
   ],
   "source": [
    "!python train.py -batch_size=128 -horizon=1 -cuda=True -epochs=10 -lr=0.004 -seed=1111 -loss='IEEM' -model='tcn'"
   ]
  },
  {
   "cell_type": "code",
   "execution_count": 26,
   "id": "d942803d",
   "metadata": {},
   "outputs": [
    {
     "name": "stdout",
     "output_type": "stream",
     "text": [
      "97.82907243526712 89.26339116744458\n",
      "Test: (8765, 11)\n",
      "19859\n",
      "7316\n",
      "7197\n",
      "9197\n",
      "checkpoint/pollution/{model}-horizon{horizon}-{loss}.pkl\n",
      "Figure(640x480)\n",
      "result/pollution/IEEM/tcn/horizon1/test-result.xlsx\n",
      "Test set: MSE = 564.6309372928914, Accuracy = 0.7430873975267472 with predicted horizon: 1\n"
     ]
    }
   ],
   "source": [
    "!python test.py -batch_size=128 -horizon=1 -ksize=3 -cuda=True -model='tcn' -loss='IEEM'\n",
    "\n",
    "\n",
    "\n"
   ]
  },
  {
   "cell_type": "markdown",
   "id": "fe94a89a",
   "metadata": {},
   "source": [
    "### MSE TCN"
   ]
  },
  {
   "cell_type": "code",
   "execution_count": 23,
   "id": "ffde8fc3",
   "metadata": {},
   "outputs": [
    {
     "name": "stdout",
     "output_type": "stream",
     "text": [
      "Using tcn to train.\n",
      "Namespace(batch_size=128, clip=0.15, cuda=True, data='pollution', dropout=0.3, epochs=10, horizon=1, ksize=3, levels=8, log_interval=100, loss='square', lr=0.004, model='tcn', nhid=40, optim='Adam', seed=11111, seq_len=48)\n",
      "97.82907243526712 89.26339116744458\n",
      "Train: (26294, 11), Valid: (8765, 11)\n",
      "19859\n",
      "7316\n",
      "7197\n",
      "torch.Size([19859, 11, 48]) torch.Size([19859, 1, 48])\n",
      "torch.Size([7316, 11, 48]) torch.Size([7316, 1, 48])\n",
      "torch.Size([7197, 11, 48]) torch.Size([7197, 1, 48])\n",
      "----------------------------\n",
      "7316\n",
      "square\n",
      "train.py:49: UserWarning: torch.nn.utils.clip_grad_norm is now deprecated in favor of torch.nn.utils.clip_grad_norm_.\n",
      "  torch.nn.utils.clip_grad_norm(model.parameters(), args.clip)  # 梯度裁剪\n",
      "Epoch: 1 Train set: MSE = 2369.8043866736148, Accuracy = 0.5626668009466741 with predicted horizon: 1\n",
      "Epoch: 1 Val set: MSE = 950.5190043324534, Accuracy = 0.5657463094587206 with predicted horizon: 1\n",
      "Epoch: 2 Train set: MSE = 711.4947193822494, Accuracy = 0.7193212145626668 with predicted horizon: 1\n",
      "Epoch: 2 Val set: MSE = 1555.4862301280803, Accuracy = 0.39898851831601967 with predicted horizon: 1\n",
      "Epoch: 3 Train set: MSE = 976.7870478430573, Accuracy = 0.655672491061987 with predicted horizon: 1\n",
      "Epoch: 3 Val set: MSE = 1052.538273745603, Accuracy = 0.5165390924002187 with predicted horizon: 1\n",
      "Epoch: 4 Train set: MSE = 810.185382421156, Accuracy = 0.6708797018983836 with predicted horizon: 1\n",
      "Epoch: 4 Val set: MSE = 1225.3728437187683, Accuracy = 0.46172772006560964 with predicted horizon: 1\n",
      "Epoch: 5 Train set: MSE = 721.7056767665442, Accuracy = 0.7072360138979807 with predicted horizon: 1\n",
      "Epoch: 5 Val set: MSE = 1035.0404763681067, Accuracy = 0.5405959540732641 with predicted horizon: 1\n",
      "Epoch: 6 Train set: MSE = 851.8528900876768, Accuracy = 0.6777783372778086 with predicted horizon: 1\n",
      "Epoch: 6 Val set: MSE = 810.8526243802246, Accuracy = 0.6163203936577365 with predicted horizon: 1\n",
      "Epoch: 7 Train set: MSE = 758.6691519413158, Accuracy = 0.7048189737650435 with predicted horizon: 1\n",
      "Epoch: 7 Val set: MSE = 744.1116209509973, Accuracy = 0.6253417167851285 with predicted horizon: 1\n",
      "Epoch: 8 Train set: MSE = 735.8921824266516, Accuracy = 0.7076892089229065 with predicted horizon: 1\n",
      "Epoch: 8 Val set: MSE = 710.2385203835362, Accuracy = 0.6793329688354292 with predicted horizon: 1\n",
      "Epoch: 9 Train set: MSE = 736.2969527783146, Accuracy = 0.7161992043909562 with predicted horizon: 1\n",
      "Epoch: 9 Val set: MSE = 691.5260917412511, Accuracy = 0.6406506287588847 with predicted horizon: 1\n",
      "Epoch: 10 Train set: MSE = 717.5939181224104, Accuracy = 0.7062792688453597 with predicted horizon: 1\n",
      "Epoch: 10 Val set: MSE = 635.0249625781742, Accuracy = 0.7326407873154729 with predicted horizon: 1\n",
      "Best val epoch: 10\n"
     ]
    }
   ],
   "source": [
    "!python train.py -batch_size=128 -horizon=1 -cuda=True -epochs=10 -lr=0.004 -seed=11111 -loss='square' -model='tcn'"
   ]
  },
  {
   "cell_type": "code",
   "execution_count": 24,
   "id": "c363fd73",
   "metadata": {
    "pycharm": {
     "name": "#%%\n"
    }
   },
   "outputs": [
    {
     "name": "stdout",
     "output_type": "stream",
     "text": [
      "97.82907243526712 89.26339116744458\n",
      "Test: (8765, 11)\n",
      "19859\n",
      "7316\n",
      "7197\n",
      "9197\n",
      "checkpoint/pollution/{model}-horizon{horizon}-{loss}.pkl\n",
      "Figure(640x480)\n",
      "result/pollution/square/tcn/horizon1/test-result.xlsx\n",
      "Test set: MSE = 660.5621549265073, Accuracy = 0.7311379741558983 with predicted horizon: 1\n"
     ]
    }
   ],
   "source": [
    "!python test.py -batch_size=128 -horizon=1 -ksize=3 -cuda=True -model='tcn' -loss='square'\n",
    "\n"
   ]
  }
 ],
 "metadata": {
  "kernelspec": {
   "display_name": "Python 3",
   "language": "python",
   "name": "python3"
  },
  "language_info": {
   "codemirror_mode": {
    "name": "ipython",
    "version": 3
   },
   "file_extension": ".py",
   "mimetype": "text/x-python",
   "name": "python",
   "nbconvert_exporter": "python",
   "pygments_lexer": "ipython3",
   "version": "3.8.8"
  },
  "pycharm": {
   "stem_cell": {
    "cell_type": "raw",
    "source": [],
    "metadata": {
     "collapsed": false
    }
   }
  }
 },
 "nbformat": 4,
 "nbformat_minor": 5
}